{
 "cells": [
  {
   "cell_type": "markdown",
   "id": "97b9af05",
   "metadata": {},
   "source": [
    "\n",
    "# Statistics Advanced - 2 | Assignment"
   ]
  },
  {
   "cell_type": "markdown",
   "id": "17774032",
   "metadata": {},
   "source": [
    "# Theory Questions"
   ]
  },
  {
   "cell_type": "markdown",
   "id": "3d697a88",
   "metadata": {},
   "source": [
    "\n",
    "### Question 1: What is hypothesis testing in statistics?\n",
    "\n",
    "**Answer:**  \n",
    "Hypothesis testing is a formal, probabilistic procedure to evaluate claims about a population parameter using sample data. We specify a **null hypothesis (H0)** representing the status quo and an **alternative hypothesis (H1)** representing a competing claim, choose a significance level (alpha), compute a test statistic from the data, and decide to **reject** or **fail to reject** H0 based on the p-value or a critical region.\n"
   ]
  },
  {
   "cell_type": "markdown",
   "id": "a988df8f",
   "metadata": {},
   "source": [
    "\n",
    "### Question 2: What is the null hypothesis, and how does it differ from the alternative hypothesis?\n",
    "\n",
    "**Answer:**  \n",
    "The **null hypothesis (H0)** is the default claim about a population parameter (e.g., mu = mu0) assumed true unless evidence suggests otherwise. The **alternative hypothesis (H1)** states what we seek evidence for (e.g., mu != mu0, mu > mu0, or mu < mu0). Decisions are framed to control false rejections of H0 at a chosen significance level.\n"
   ]
  },
  {
   "cell_type": "markdown",
   "id": "6d2d469b",
   "metadata": {},
   "source": [
    "\n",
    "### Question 3: Explain the significance level in hypothesis testing and its role in deciding the outcome of a test.\n",
    "\n",
    "**Answer:**  \n",
    "The **significance level (alpha)** is the long-run probability of incorrectly rejecting a true null hypothesis (Type I error). Typical choices are 0.05 or 0.01. We reject H0 if the p-value <= alpha (or equivalently, if the test statistic falls in the critical region defined by alpha); otherwise, we fail to reject H0.\n"
   ]
  },
  {
   "cell_type": "markdown",
   "id": "962f5f93",
   "metadata": {},
   "source": [
    "\n",
    "### Question 4: What are Type I and Type II errors? Give examples of each.\n",
    "\n",
    "**Answer:**  \n",
    "- **Type I error (False Positive):** Rejecting H0 when H0 is true.  \n",
    "  Example: Concluding a new drug works when it actually does not.\n",
    "- **Type II error (False Negative):** Failing to reject H0 when H1 is true.  \n",
    "  Example: Concluding a new drug does not work when it actually does.\n",
    "The probabilities of these errors are alpha (Type I) and beta (Type II), with **power = 1 - beta**.\n"
   ]
  },
  {
   "cell_type": "markdown",
   "id": "e074a023",
   "metadata": {},
   "source": [
    "\n",
    "### Question 5: What is the difference between a Z-test and a T-test? Explain when to use each.\n",
    "\n",
    "**Answer:**  \n",
    "- **Z-test:** Used when the population standard deviation (sigma) is known or the sample is large and sigma is well-estimated; the test statistic follows the standard normal distribution.  \n",
    "- **t-test:** Used when sigma is unknown and must be estimated from the sample; the test statistic follows a t distribution with appropriate degrees of freedom.  \n",
    "In practice, for small samples with unknown sigma, use a t-test; for large samples or known sigma, a Z-test is appropriate.\n"
   ]
  },
  {
   "cell_type": "markdown",
   "id": "0e47ba45",
   "metadata": {},
   "source": [
    "# Practical Questions"
   ]
  },
  {
   "cell_type": "markdown",
   "id": "e6e7b358",
   "metadata": {},
   "source": [
    "\n",
    "### Q6: Write a Python program to generate a binomial distribution with n=10 and p=0.5, then plot its histogram.  "
   ]
  },
  {
   "cell_type": "code",
   "execution_count": 1,
   "id": "5e589e09",
   "metadata": {},
   "outputs": [
    {
     "name": "stdout",
     "output_type": "stream",
     "text": [
      "Sample mean (should be close to n*p): 4.982\n",
      "Sample variance (should be close to n*p*(1-p)): 2.5064759999999997\n"
     ]
    },
    {
     "data": {
      "image/png": "[encoded data removed]",
      "text/plain": [
       "<Figure size 640x480 with 1 Axes>"
      ]
     },
     "metadata": {},
     "output_type": "display_data"
    }
   ],
   "source": [
    "import numpy as np\n",
    "import matplotlib.pyplot as plt\n",
    "\n",
    "np.random.seed(42)\n",
    "\n",
    "n = 10\n",
    "p = 0.5\n",
    "size = 5000\n",
    "\n",
    "samples = np.random.binomial(n=n, p=p, size=size)\n",
    "\n",
    "# Basic descriptive stats\n",
    "print(\"Sample mean (should be close to n*p):\", samples.mean())\n",
    "print(\"Sample variance (should be close to n*p*(1-p)):\", samples.var())\n",
    "\n",
    "# Plot histogram\n",
    "plt.figure()\n",
    "plt.hist(samples, bins=np.arange(-0.5, n+1.5, 1), edgecolor='black', density=True)\n",
    "plt.title('Binomial(n=10, p=0.5) - Histogram')\n",
    "plt.xlabel('Number of successes')\n",
    "plt.ylabel('Relative frequency')\n",
    "plt.show()\n"
   ]
  },
  {
   "cell_type": "markdown",
   "id": "a089065f",
   "metadata": {},
   "source": [
    "\n",
    "### Q7: Implement hypothesis testing using Z-statistics for a sample dataset in Python. Show the Python code and interpret the results.\n",
    "\n",
    "Sample data:  \n",
    "```\n",
    "[49.1, 50.2, 51.0, 48.7, 50.5, 49.8, 50.3, 50.7, 50.2, 49.6, \n",
    " 50.1, 49.9, 50.8, 50.4, 48.9, 50.6, 50.0, 49.7, 50.2, 49.5, \n",
    " 50.1, 50.3, 50.4, 50.5, 50.0, 50.7, 49.3, 49.8, 50.2, 50.9, \n",
    " 50.3, 50.4, 50.0, 49.7, 50.5, 49.9]\n",
    "```\n",
    "\n",
    "Assume we are testing: H0: mu = 50  vs.  H1: mu != 50 (two-sided), at alpha = 0.05.\n"
   ]
  },
  {
   "cell_type": "code",
   "execution_count": 2,
   "id": "621bf58d",
   "metadata": {},
   "outputs": [
    {
     "name": "stdout",
     "output_type": "stream",
     "text": [
      "n = 36, mean = 50.0889, s = 0.5365\n",
      "Z statistic = 0.9940\n",
      "Two-sided p-value = 0.320210\n",
      "Decision: Fail to reject H0 at alpha = 0.05.\n"
     ]
    }
   ],
   "source": [
    "import numpy as np\n",
    "from math import sqrt, erf\n",
    "\n",
    "sample_data = np.array([49.1, 50.2, 51.0, 48.7, 50.5, 49.8, 50.3, 50.7, 50.2, 49.6, \n",
    "                        50.1, 49.9, 50.8, 50.4, 48.9, 50.6, 50.0, 49.7, 50.2, 49.5, \n",
    "                        50.1, 50.3, 50.4, 50.5, 50.0, 50.7, 49.3, 49.8, 50.2, 50.9, \n",
    "                        50.3, 50.4, 50.0, 49.7, 50.5, 49.9])\n",
    "\n",
    "mu0 = 50.0\n",
    "alpha = 0.05\n",
    "n = len(sample_data)\n",
    "xbar = sample_data.mean()\n",
    "s = sample_data.std(ddof=1)\n",
    "\n",
    "Z = (xbar - mu0) / (s / sqrt(n))\n",
    "\n",
    "def norm_cdf(z):\n",
    "    return 0.5 * (1.0 + erf(z / sqrt(2.0)))\n",
    "\n",
    "p_value = 2.0 * (1.0 - norm_cdf(abs(Z)))\n",
    "\n",
    "print(f\"n = {n}, mean = {xbar:.4f}, s = {s:.4f}\")\n",
    "print(f\"Z statistic = {Z:.4f}\")\n",
    "print(f\"Two-sided p-value = {p_value:.6f}\")\n",
    "\n",
    "if p_value <= alpha:\n",
    "    print(\"Decision: Reject H0 at alpha = 0.05.\")\n",
    "else:\n",
    "    print(\"Decision: Fail to reject H0 at alpha = 0.05.\")\n"
   ]
  },
  {
   "cell_type": "markdown",
   "id": "4d6cea0d",
   "metadata": {},
   "source": [
    "\n",
    "Interpretation:  \n",
    "We compute a Z statistic using the sample mean and sample standard deviation (large-sample normal approximation). If the p-value <= 0.05, there is sufficient evidence that the true mean differs from 50; otherwise, we do not have enough evidence to claim a difference.\n"
   ]
  },
  {
   "cell_type": "markdown",
   "id": "098d4a76",
   "metadata": {},
   "source": [
    "\n",
    "### Q8: Write a Python script to simulate data from a normal distribution and calculate the 95% confidence interval for its mean. Plot the data using Matplotlib.\n"
   ]
  },
  {
   "cell_type": "code",
   "execution_count": 3,
   "id": "2ba882c5",
   "metadata": {},
   "outputs": [
    {
     "name": "stdout",
     "output_type": "stream",
     "text": [
      "Sample mean = 10.0114\n",
      "95% CI for mean = [9.5727, 10.4500]\n"
     ]
    },
    {
     "data": {
      "image/png": "[encoded data removed]",
      "text/plain": [
       "<Figure size 640x480 with 1 Axes>"
      ]
     },
     "metadata": {},
     "output_type": "display_data"
    }
   ],
   "source": [
    "import numpy as np\n",
    "import matplotlib.pyplot as plt\n",
    "from math import sqrt\n",
    "\n",
    "np.random.seed(123)\n",
    "\n",
    "# Simulate normal data\n",
    "n = 200\n",
    "true_mu = 10.0\n",
    "true_sigma = 3.0\n",
    "data = np.random.normal(loc=true_mu, scale=true_sigma, size=n)\n",
    "\n",
    "# 95% CI using normal approximation\n",
    "xbar = data.mean()\n",
    "s = data.std(ddof=1)\n",
    "se = s / sqrt(n)\n",
    "z_crit = 1.96  \n",
    "ci_lower = xbar - z_crit * se\n",
    "ci_upper = xbar + z_crit * se\n",
    "\n",
    "print(f\"Sample mean = {xbar:.4f}\")\n",
    "print(f\"95% CI for mean = [{ci_lower:.4f}, {ci_upper:.4f}]\")\n",
    "\n",
    "# Plot histogram of the simulated data\n",
    "plt.figure()\n",
    "plt.hist(data, bins=20, edgecolor='black', density=False)\n",
    "plt.title('Simulated Normal Data')\n",
    "plt.xlabel('Value')\n",
    "plt.ylabel('Count')\n",
    "plt.show()\n"
   ]
  },
  {
   "cell_type": "markdown",
   "id": "0a89bd80",
   "metadata": {},
   "source": [
    "\n",
    "### Q9: Write a Python function to calculate the Z-scores from a dataset and visualize the standardized data using a histogram. Explain what the Z-scores represent in terms of standard deviations from the mean.\n"
   ]
  },
  {
   "cell_type": "code",
   "execution_count": 4,
   "id": "2da1631c",
   "metadata": {},
   "outputs": [
    {
     "name": "stdout",
     "output_type": "stream",
     "text": [
      "First five Z-scores: [-1.86923647  0.21002657  1.72221787 -2.62533213  0.77709831]\n"
     ]
    },
    {
     "data": {
      "image/png": "[encoded data removed]",
      "text/plain": [
       "<Figure size 640x480 with 1 Axes>"
      ]
     },
     "metadata": {},
     "output_type": "display_data"
    }
   ],
   "source": [
    "import numpy as np\n",
    "import matplotlib.pyplot as plt\n",
    "\n",
    "def z_scores(x):\n",
    "    x = np.asarray(x, dtype=float)\n",
    "    mu = x.mean()\n",
    "    sigma = x.std(ddof=0) \n",
    "    if sigma == 0:\n",
    "        raise ValueError(\"Standard deviation is zero; Z-scores undefined.\")\n",
    "    return (x - mu) / sigma\n",
    "\n",
    "zs = z_scores([49.1, 50.2, 51.0, 48.7, 50.5, 49.8, 50.3, 50.7, 50.2, 49.6, \n",
    "               50.1, 49.9, 50.8, 50.4, 48.9, 50.6, 50.0, 49.7, 50.2, 49.5, \n",
    "               50.1, 50.3, 50.4, 50.5, 50.0, 50.7, 49.3, 49.8, 50.2, 50.9, \n",
    "               50.3, 50.4, 50.0, 49.7, 50.5, 49.9])\n",
    "\n",
    "print(\"First five Z-scores:\", zs[:5])\n",
    "\n",
    "plt.figure()\n",
    "plt.hist(zs, bins=15, edgecolor='black')\n",
    "plt.title('Histogram of Z-scores (Standardized Data)')\n",
    "plt.xlabel('Z-score')\n",
    "plt.ylabel('Count')\n",
    "plt.show()\n"
   ]
  },
  {
   "cell_type": "markdown",
   "id": "65d8c250",
   "metadata": {},
   "source": [
    "\n",
    "Explanation:  \n",
    "A Z-score tells how many standard deviations an observation lies from the mean:  \n",
    "z_i = (x_i - x_bar) / s  (or using population standard deviation if known).  \n",
    "Values near 0 are close to the mean; about +-1 are roughly one standard deviation away; larger magnitudes indicate more extreme observations.\n"
   ]
  },
  {
   "cell_type": "markdown",
   "id": "d27418dd",
   "metadata": {},
   "source": [
    "# ------------------------------- Thank You ----------------------------"
   ]
  },
  {
   "cell_type": "code",
   "execution_count": null,
   "id": "44e03506",
   "metadata": {},
   "outputs": [],
   "source": []
  }
 ],
 "metadata": {
  "kernelspec": {
   "display_name": "Python 3 (ipykernel)",
   "language": "python",
   "name": "python3"
  },
  "language_info": {
   "codemirror_mode": {
    "name": "ipython",
    "version": 3
   },
   "file_extension": ".py",
   "mimetype": "text/x-python",
   "name": "python",
   "nbconvert_exporter": "python",
   "pygments_lexer": "ipython3",
   "version": "3.9.13"
  }
 },
 "nbformat": 4,
 "nbformat_minor": 5
}
