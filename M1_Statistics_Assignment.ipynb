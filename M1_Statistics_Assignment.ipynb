{
 "cells": [
  {
   "cell_type": "markdown",
   "id": "55d1070b",
   "metadata": {},
   "source": [
    "# Theory Questions"
   ]
  },
  {
   "cell_type": "markdown",
   "id": "30859446",
   "metadata": {},
   "source": [
    "**1. What is statistics, and why is it important**\n",
    "\n",
    "*Answer:* Statistics is the science of collecting, analyzing, interpreting, presenting, and organizing data. It's important for making informed decisions, understanding trends, and validating hypotheses across various fields such as business, healthcare, and science."
   ]
  },
  {
   "cell_type": "markdown",
   "id": "40560945",
   "metadata": {},
   "source": [
    "**2. What are the two main types of statistics**\n",
    "\n",
    "*Answer:* The two main types of statistics are Descriptive Statistics and Inferential Statistics."
   ]
  },
  {
   "cell_type": "markdown",
   "id": "b3e07387",
   "metadata": {},
   "source": [
    "**3. What are descriptive statistics**\n",
    "\n",
    "*Answer:* Descriptive statistics summarize and organize data using measures such as mean, median, mode, standard deviation, and visualizations like charts and graphs."
   ]
  },
  {
   "cell_type": "markdown",
   "id": "ba3c28b7",
   "metadata": {},
   "source": [
    "**4. What is inferential statistics**\n",
    "\n",
    "*Answer:* Inferential statistics use a random sample of data taken from a population to describe and make inferences about the population."
   ]
  },
  {
   "cell_type": "markdown",
   "id": "3635afdd",
   "metadata": {},
   "source": [
    "**5. What is sampling in statistics**\n",
    "\n",
    "*Answer:* Sampling in statistics is the process of selecting a subset of individuals from a population to estimate characteristics of the whole population."
   ]
  },
  {
   "cell_type": "markdown",
   "id": "fc64a83b",
   "metadata": {},
   "source": [
    "**6. What are the different types of sampling methods**\n",
    "\n",
    "*Answer:* The main types of sampling methods are: Simple Random Sampling, Stratified Sampling, Systematic Sampling, Cluster Sampling, and Convenience Sampling."
   ]
  },
  {
   "cell_type": "markdown",
   "id": "12283b69",
   "metadata": {},
   "source": [
    "**7. What is the difference between random and non-random sampling**\n",
    "\n",
    "*Answer:* Random sampling gives every member of the population an equal chance of being selected, while non-random sampling does not follow this principle and may introduce bias."
   ]
  },
  {
   "cell_type": "markdown",
   "id": "79706ec3",
   "metadata": {},
   "source": [
    "**8. Define and give examples of qualitative and quantitative data**\n",
    "\n",
    "*Answer:* Qualitative data describes qualities or characteristics (e.g., color, gender), while quantitative data represents numerical values (e.g., age, height)."
   ]
  },
  {
   "cell_type": "markdown",
   "id": "62457f4e",
   "metadata": {},
   "source": [
    "**9. What are the different types of data in statistics**\n",
    "\n",
    "*Answer:* The types of data in statistics include: Nominal, Ordinal, Interval, and Ratio."
   ]
  },
  {
   "cell_type": "markdown",
   "id": "821ef91d",
   "metadata": {},
   "source": [
    "**10. Explain nominal, ordinal, interval, and ratio levels of measurement**\n",
    "\n",
    "*Answer:* Nominal: categories without order (e.g., gender); Ordinal: ordered categories (e.g., rankings); Interval: numeric data without a true zero (e.g., temperature); Ratio: numeric data with a true zero (e.g., weight)."
   ]
  },
  {
   "cell_type": "markdown",
   "id": "53b7d784",
   "metadata": {},
   "source": [
    "**11. What is the measure of central tendency**\n",
    "\n",
    "*Answer:* The measure of central tendency identifies the center of a data set. It includes the mean, median, and mode."
   ]
  },
  {
   "cell_type": "markdown",
   "id": "9887a8c3",
   "metadata": {},
   "source": [
    "**12. Define mean, median, and mode**\n",
    "\n",
    "*Answer:* Mean is the average, median is the middle value, and mode is the most frequent value in the dataset."
   ]
  },
  {
   "cell_type": "markdown",
   "id": "aaa14d4f",
   "metadata": {},
   "source": [
    "**13. What is the significance of the measure of central tendency**\n",
    "\n",
    "*Answer:* Measures of central tendency help summarize data with a single value representing the entire distribution, aiding in comparison and understanding."
   ]
  },
  {
   "cell_type": "markdown",
   "id": "e7aec8e5",
   "metadata": {},
   "source": [
    "**14. What is variance, and how is it calculated**\n",
    "\n",
    "*Answer:* Variance measures how much the data points differ from the mean. It's calculated as the average of the squared differences from the mean."
   ]
  },
  {
   "cell_type": "markdown",
   "id": "a03101e2",
   "metadata": {},
   "source": [
    "**15. What is standard deviation, and why is it important**\n",
    "\n",
    "*Answer:* Standard deviation is the square root of variance. It indicates how much the data deviates from the mean and is important in understanding data spread."
   ]
  },
  {
   "cell_type": "markdown",
   "id": "6b61bfd8",
   "metadata": {},
   "source": [
    "**16. Define and explain the term range in statistics**\n",
    "\n",
    "*Answer:* Range is the difference between the highest and lowest values in a dataset. It gives a basic measure of dispersion."
   ]
  },
  {
   "cell_type": "markdown",
   "id": "1812efc7",
   "metadata": {},
   "source": [
    "**17. What is the difference between variance and standard deviation**\n",
    "\n",
    "*Answer:* Variance is the average of squared differences from the mean, while standard deviation is its square root. Standard deviation is in the same units as the data."
   ]
  },
  {
   "cell_type": "markdown",
   "id": "4f3d699d",
   "metadata": {},
   "source": [
    "**18. What is skewness in a dataset**\n",
    "\n",
    "*Answer:* Skewness indicates the asymmetry of a distribution. A skewed dataset has a longer tail on one side."
   ]
  },
  {
   "cell_type": "markdown",
   "id": "e47a3488",
   "metadata": {},
   "source": [
    "**19. What does it mean if a dataset is positively or negatively skewed**\n",
    "\n",
    "*Answer:* Positive skew: tail on the right; Negative skew: tail on the left."
   ]
  },
  {
   "cell_type": "markdown",
   "id": "91a3934b",
   "metadata": {},
   "source": [
    "**20. Define and explain kurtosis**\n",
    "\n",
    "*Answer:* Kurtosis measures the 'tailedness' of the distribution. High kurtosis means heavy tails; low kurtosis means light tails."
   ]
  },
  {
   "cell_type": "markdown",
   "id": "7a905f69",
   "metadata": {},
   "source": [
    "**21. What is the purpose of covariance**\n",
    "\n",
    "*Answer:* Covariance indicates the direction of the linear relationship between two variables. It can be positive, negative, or zero."
   ]
  },
  {
   "cell_type": "markdown",
   "id": "40994c8c",
   "metadata": {},
   "source": [
    "**22. What does correlation measure in statistics**\n",
    "\n",
    "*Answer:* Correlation measures both the strength and direction of the linear relationship between two variables."
   ]
  },
  {
   "cell_type": "markdown",
   "id": "745f68e2",
   "metadata": {},
   "source": [
    "**23. What is the difference between covariance and correlation**\n",
    "\n",
    "*Answer:* Covariance gives direction only, while correlation gives both direction and magnitude (standardized)."
   ]
  },
  {
   "cell_type": "markdown",
   "id": "f9f5c89e",
   "metadata": {},
   "source": [
    "**24. What are some real-world applications of statistics?**\n",
    "\n",
    "*Answer:* Statistics is used in business forecasting, quality testing, healthcare analytics, social science research, and many more fields."
   ]
  },
  {
   "cell_type": "markdown",
   "id": "e9b1523d",
   "metadata": {},
   "source": [
    "# Practical Questions"
   ]
  },
  {
   "cell_type": "markdown",
   "id": "4d846fe0",
   "metadata": {},
   "source": [
    "**Q1. 1. How do you calculate the mean, median, and mode of a dataset**"
   ]
  },
  {
   "cell_type": "code",
   "execution_count": 1,
   "id": "d8fc8711",
   "metadata": {},
   "outputs": [
    {
     "name": "stdout",
     "output_type": "stream",
     "text": [
      "Mean: 28.0, Median: 20.0, Mode: 20\n"
     ]
    }
   ],
   "source": [
    "import numpy as np\n",
    "import statistics as stats\n",
    "\n",
    "data = [10, 20, 20, 40, 50]\n",
    "mean = np.mean(data)\n",
    "median = np.median(data)\n",
    "mode = stats.mode(data)\n",
    "print(f\"Mean: {mean}, Median: {median}, Mode: {mode}\")"
   ]
  },
  {
   "cell_type": "markdown",
   "id": "9f69830f",
   "metadata": {},
   "source": [
    "**Q2. 2. Write a Python program to compute the variance and standard deviation of a dataset**"
   ]
  },
  {
   "cell_type": "code",
   "execution_count": 2,
   "id": "af95b451",
   "metadata": {},
   "outputs": [
    {
     "name": "stdout",
     "output_type": "stream",
     "text": [
      "Variance: 200.0, Standard Deviation: 14.142135623730951\n"
     ]
    }
   ],
   "source": [
    "data = [10, 20, 30, 40, 50]\n",
    "variance = np.var(data)\n",
    "std_dev = np.std(data)\n",
    "print(f\"Variance: {variance}, Standard Deviation: {std_dev}\")"
   ]
  },
  {
   "cell_type": "markdown",
   "id": "72a97e6a",
   "metadata": {},
   "source": [
    "**Q3. 3. Create a dataset and classify it into nominal, ordinal, interval, and ratio types**"
   ]
  },
  {
   "cell_type": "code",
   "execution_count": 3,
   "id": "6082738d",
   "metadata": {},
   "outputs": [
    {
     "name": "stdout",
     "output_type": "stream",
     "text": [
      "{'Nominal': ['Male', 'Female', 'Female'], 'Ordinal': ['High School', 'Bachelor', 'Master'], 'Interval': [30, 35, 40], 'Ratio': [160, 170, 180]}\n"
     ]
    }
   ],
   "source": [
    "dataset = {\n",
    "    \"Nominal\": [\"Male\", \"Female\", \"Female\"],\n",
    "    \"Ordinal\": [\"High School\", \"Bachelor\", \"Master\"],\n",
    "    \"Interval\": [30, 35, 40],\n",
    "    \"Ratio\": [160, 170, 180]\n",
    "}\n",
    "print(dataset)"
   ]
  },
  {
   "cell_type": "markdown",
   "id": "d4146e50",
   "metadata": {},
   "source": [
    "**Q4. 4. Implement sampling techniques like random sampling and stratified sampling**"
   ]
  },
  {
   "cell_type": "code",
   "execution_count": 17,
   "id": "827b1b98",
   "metadata": {},
   "outputs": [
    {
     "name": "stdout",
     "output_type": "stream",
     "text": [
      "    ID Group\n",
      "69  69     B\n",
      "55  55     B\n",
      "11  11     A\n",
      "32  32     A\n",
      "87  87     B\n",
      "68  68     B\n",
      "41  41     A\n",
      "34  34     A\n",
      "70  70     B\n",
      "15  15     A\n"
     ]
    }
   ],
   "source": [
    "import random\n",
    "from sklearn.model_selection import train_test_split\n",
    "import pandas as pd\n",
    "\n",
    "df = pd.DataFrame({'ID': range(100), 'Group': ['A']*50 + ['B']*50})\n",
    "random_sample = df.sample(n=10)\n",
    "print(random_sample)"
   ]
  },
  {
   "cell_type": "code",
   "execution_count": 18,
   "id": "aa1ee473",
   "metadata": {},
   "outputs": [
    {
     "name": "stdout",
     "output_type": "stream",
     "text": [
      "    ID Group\n",
      "49  49     A\n",
      "15  15     A\n",
      "47  47     A\n",
      "25  25     A\n",
      "14  14     A\n",
      "66  66     B\n",
      "85  85     B\n",
      "90  90     B\n",
      "79  79     B\n",
      "77  77     B\n"
     ]
    }
   ],
   "source": [
    "stratified_sample = df.groupby('Group', group_keys=False).apply(lambda x: x.sample(5))\n",
    "print(stratified_sample)"
   ]
  },
  {
   "cell_type": "markdown",
   "id": "1e0fc7d4",
   "metadata": {},
   "source": [
    "**Q5. 5. Write a Python function to calculate the range of a dataset**"
   ]
  },
  {
   "cell_type": "code",
   "execution_count": 7,
   "id": "b918adc2",
   "metadata": {},
   "outputs": [
    {
     "name": "stdout",
     "output_type": "stream",
     "text": [
      "Range: 38\n"
     ]
    }
   ],
   "source": [
    "def calculate_range(data):\n",
    "    return max(data) - min(data)\n",
    "\n",
    "data = [4, 8, 15, 16, 23, 42]\n",
    "print(\"Range:\", calculate_range(data))"
   ]
  },
  {
   "cell_type": "markdown",
   "id": "77f2b2f3",
   "metadata": {},
   "source": [
    "**Q6. 6. Create a dataset and plot its histogram to visualize skewness**"
   ]
  },
  {
   "cell_type": "code",
   "execution_count": 8,
   "id": "a5a54ad3",
   "metadata": {},
   "outputs": [
    {
     "data": {
      "image/png": "[encoded data removed]",
      "text/plain": [
       "<Figure size 640x480 with 1 Axes>"
      ]
     },
     "metadata": {},
     "output_type": "display_data"
    }
   ],
   "source": [
    "import matplotlib.pyplot as plt\n",
    "\n",
    "data = np.random.normal(0, 1, 1000)\n",
    "plt.hist(data, bins=30)\n",
    "plt.title(\"Histogram of Data\")\n",
    "plt.show()"
   ]
  },
  {
   "cell_type": "markdown",
   "id": "d4b79f83",
   "metadata": {},
   "source": [
    "**Q7. 7. Calculate skewness and kurtosis of a dataset using Python libraries**"
   ]
  },
  {
   "cell_type": "code",
   "execution_count": 9,
   "id": "8e7e17cd",
   "metadata": {},
   "outputs": [
    {
     "name": "stdout",
     "output_type": "stream",
     "text": [
      "Skewness: 0.012921083433658382\n",
      "Kurtosis: 0.1008781036671702\n"
     ]
    }
   ],
   "source": [
    "from scipy.stats import skew, kurtosis\n",
    "\n",
    "data = np.random.normal(0, 1, 1000)\n",
    "print(\"Skewness:\", skew(data))\n",
    "print(\"Kurtosis:\", kurtosis(data))"
   ]
  },
  {
   "cell_type": "markdown",
   "id": "41e67b86",
   "metadata": {},
   "source": [
    "**Q8. 8. Generate a dataset and demonstrate positive and negative skewness**"
   ]
  },
  {
   "cell_type": "code",
   "execution_count": 10,
   "id": "b60eceed",
   "metadata": {},
   "outputs": [
    {
     "data": {
      "image/png": "[encoded data removed]",
      "text/plain": [
       "<Figure size 640x480 with 1 Axes>"
      ]
     },
     "metadata": {},
     "output_type": "display_data"
    }
   ],
   "source": [
    "data_pos = np.random.exponential(scale=1, size=1000)\n",
    "data_neg = -1 * np.random.exponential(scale=1, size=1000)\n",
    "plt.hist(data_pos, bins=30, alpha=0.7, label='Positive Skew')\n",
    "plt.hist(data_neg, bins=30, alpha=0.7, label='Negative Skew')\n",
    "plt.legend()\n",
    "plt.show()"
   ]
  },
  {
   "cell_type": "markdown",
   "id": "ba339434",
   "metadata": {},
   "source": [
    "**Q9. 9. Write a Python script to calculate covariance between two datasets**"
   ]
  },
  {
   "cell_type": "code",
   "execution_count": 11,
   "id": "2a1e6318",
   "metadata": {},
   "outputs": [
    {
     "name": "stdout",
     "output_type": "stream",
     "text": [
      "Covariance: 5.0\n"
     ]
    }
   ],
   "source": [
    "x = [1, 2, 3, 4, 5]\n",
    "y = [2, 4, 6, 8, 10]\n",
    "cov = np.cov(x, y)[0][1]\n",
    "print(\"Covariance:\", cov)"
   ]
  },
  {
   "cell_type": "markdown",
   "id": "afa854e5",
   "metadata": {},
   "source": [
    "**Q10. 10. Write a Python script to calculate the correlation coefficient between two datasets**"
   ]
  },
  {
   "cell_type": "code",
   "execution_count": 12,
   "id": "f4c94922",
   "metadata": {},
   "outputs": [
    {
     "name": "stdout",
     "output_type": "stream",
     "text": [
      "Correlation Coefficient: 1.0\n"
     ]
    }
   ],
   "source": [
    "from scipy.stats import pearsonr\n",
    "\n",
    "x = [1, 2, 3, 4, 5]\n",
    "y = [2, 4, 6, 8, 10]\n",
    "corr, _ = pearsonr(x, y)\n",
    "print(\"Correlation Coefficient:\", corr)"
   ]
  },
  {
   "cell_type": "markdown",
   "id": "d9c08378",
   "metadata": {},
   "source": [
    "**Q11. 11. Create a scatter plot to visualize the relationship between two variables**"
   ]
  },
  {
   "cell_type": "code",
   "execution_count": 13,
   "id": "884063ef",
   "metadata": {},
   "outputs": [
    {
     "data": {
      "image/png": "[encoded data removed]",
      "text/plain": [
       "<Figure size 640x480 with 1 Axes>"
      ]
     },
     "metadata": {},
     "output_type": "display_data"
    }
   ],
   "source": [
    "plt.scatter(x, y)\n",
    "plt.xlabel(\"X\")\n",
    "plt.ylabel(\"Y\")\n",
    "plt.title(\"Scatter Plot\")\n",
    "plt.show()"
   ]
  },
  {
   "cell_type": "markdown",
   "id": "5b1edf4f",
   "metadata": {},
   "source": [
    "**Q12. 12. Implement and compare simple random sampling and systematic sampling**"
   ]
  },
  {
   "cell_type": "code",
   "execution_count": 15,
   "id": "779c6157",
   "metadata": {},
   "outputs": [
    {
     "name": "stdout",
     "output_type": "stream",
     "text": [
      "    ID Group\n",
      "40  40     A\n",
      "18  18     A\n",
      "76  76     B\n",
      "60  60     B\n",
      "20  20     A\n",
      "49  49     A\n",
      "29  29     A\n",
      "3    3     A\n",
      "13  13     A\n",
      "62  62     B\n"
     ]
    }
   ],
   "source": [
    "# Simple random sampling\n",
    "simple_sample = df.sample(n=10)\n",
    "print(simple_sample)"
   ]
  },
  {
   "cell_type": "code",
   "execution_count": 16,
   "id": "53ad8375",
   "metadata": {},
   "outputs": [
    {
     "name": "stdout",
     "output_type": "stream",
     "text": [
      "    ID Group\n",
      "0    0     A\n",
      "10  10     A\n",
      "20  20     A\n",
      "30  30     A\n",
      "40  40     A\n",
      "50  50     B\n",
      "60  60     B\n",
      "70  70     B\n",
      "80  80     B\n",
      "90  90     B\n"
     ]
    }
   ],
   "source": [
    "# Systematic sampling\n",
    "step = len(df) // 10\n",
    "systematic_sample = df.iloc[::step]\n",
    "print(systematic_sample)"
   ]
  },
  {
   "cell_type": "markdown",
   "id": "ccd897e1",
   "metadata": {},
   "source": [
    "**Q13. 13. Calculate the mean, median, and mode of grouped data**"
   ]
  },
  {
   "cell_type": "code",
   "execution_count": 19,
   "id": "71abfbf4",
   "metadata": {},
   "outputs": [
    {
     "name": "stdout",
     "output_type": "stream",
     "text": [
      "Grouped Mean: 16.0\n"
     ]
    }
   ],
   "source": [
    "import pandas as pd\n",
    "\n",
    "data = {'Class': ['0-10', '10-20', '20-30'],\n",
    "        'Frequency': [5, 8, 7]}\n",
    "df = pd.DataFrame(data)\n",
    "df['Midpoint'] = [5, 15, 25]\n",
    "mean = sum(df['Midpoint'] * df['Frequency']) / sum(df['Frequency'])\n",
    "print(\"Grouped Mean:\", mean)"
   ]
  },
  {
   "cell_type": "markdown",
   "id": "88d2d1db",
   "metadata": {},
   "source": [
    "**Q14. 14. Simulate data using Python and calculate its central tendency and dispersion.**"
   ]
  },
  {
   "cell_type": "code",
   "execution_count": 20,
   "id": "6a1353c0",
   "metadata": {},
   "outputs": [
    {
     "name": "stdout",
     "output_type": "stream",
     "text": [
      "Mean: 51.03962817062642, Median: 50.61121045748517, Std Dev: 10.949808863046002\n"
     ]
    }
   ],
   "source": [
    "data = np.random.normal(loc=50, scale=10, size=100)\n",
    "print(f\"Mean: {np.mean(data)}, Median: {np.median(data)}, Std Dev: {np.std(data)}\")"
   ]
  },
  {
   "cell_type": "markdown",
   "id": "bddf289a",
   "metadata": {},
   "source": [
    "**Q15. 15. Use NumPy or pandas to summarize a dataset’s descriptive statistics**"
   ]
  },
  {
   "cell_type": "code",
   "execution_count": 21,
   "id": "dc17b370",
   "metadata": {},
   "outputs": [
    {
     "name": "stdout",
     "output_type": "stream",
     "text": [
      "                A\n",
      "count  100.000000\n",
      "mean    -0.091011\n",
      "std      0.931231\n",
      "min     -2.077731\n",
      "25%     -0.839859\n",
      "50%      0.022520\n",
      "75%      0.618978\n",
      "max      2.077286\n"
     ]
    }
   ],
   "source": [
    "import pandas as pd\n",
    "\n",
    "df = pd.DataFrame({'A': np.random.randn(100)})\n",
    "print(df.describe())"
   ]
  },
  {
   "cell_type": "markdown",
   "id": "14120c64",
   "metadata": {},
   "source": [
    "**Q16. 16. Plot a boxplot to understand the spread and identify outliers**"
   ]
  },
  {
   "cell_type": "code",
   "execution_count": 22,
   "id": "79528c70",
   "metadata": {},
   "outputs": [
    {
     "data": {
      "image/png": "[encoded data removed]",
      "text/plain": [
       "<Figure size 640x480 with 1 Axes>"
      ]
     },
     "metadata": {},
     "output_type": "display_data"
    }
   ],
   "source": [
    "import seaborn as sns\n",
    "\n",
    "sns.boxplot(data=df)\n",
    "plt.show()"
   ]
  },
  {
   "cell_type": "markdown",
   "id": "f4acd9e6",
   "metadata": {},
   "source": [
    "**Q17. 17. Calculate the interquartile range (IQR) of a dataset**"
   ]
  },
  {
   "cell_type": "code",
   "execution_count": 23,
   "id": "164f5f01",
   "metadata": {},
   "outputs": [
    {
     "name": "stdout",
     "output_type": "stream",
     "text": [
      "Interquartile Range (IQR): 13.952771712656059\n"
     ]
    }
   ],
   "source": [
    "Q1 = np.percentile(data, 25)\n",
    "Q3 = np.percentile(data, 75)\n",
    "iqr = Q3 - Q1\n",
    "print(\"Interquartile Range (IQR):\", iqr)"
   ]
  },
  {
   "cell_type": "markdown",
   "id": "79d28031",
   "metadata": {},
   "source": [
    "**Q18. 18. Implement Z-score normalization and explain its significance**"
   ]
  },
  {
   "cell_type": "code",
   "execution_count": 24,
   "id": "c6dcb125",
   "metadata": {},
   "outputs": [
    {
     "name": "stdout",
     "output_type": "stream",
     "text": [
      "[-1.23789092 -1.51021136  0.47383757  0.43493465  0.16261421  0.24042005\n",
      "  1.05738137  0.94067261  1.29079889 -0.4209296   0.74615801 -0.30422084\n",
      "  1.01847845  0.97957553 -0.49873544  1.48531349  1.09628429  0.82396385\n",
      "  0.90176969 -1.27679384 -1.5880172   0.00700253 -0.26531792 -1.12118216\n",
      "  0.94067261  0.70725509  1.56311934  1.21299305 -0.10970624 -0.03190039\n",
      "  1.09628429  0.39603173  1.13518721 -1.54911428 -1.54911428  0.51274049\n",
      " -1.51021136  0.08480837 -1.47130844 -0.34312376 -1.23789092 -0.34312376\n",
      " -1.3935026   0.39603173  0.78506093  0.08480837 -0.14860916 -1.82143473\n",
      " -1.62692012  0.78506093]\n"
     ]
    }
   ],
   "source": [
    "from scipy.stats import zscore\n",
    "\n",
    "data = np.random.randint(10, 100, 50)\n",
    "z_scores = zscore(data)\n",
    "print(z_scores)"
   ]
  },
  {
   "cell_type": "markdown",
   "id": "566ecfe2",
   "metadata": {},
   "source": [
    "**Q19. 19. Compare two datasets using their standard deviations**"
   ]
  },
  {
   "cell_type": "code",
   "execution_count": 25,
   "id": "e5b9833d",
   "metadata": {},
   "outputs": [
    {
     "name": "stdout",
     "output_type": "stream",
     "text": [
      "Std Dev 1: 0.9145301607845248\n",
      "Std Dev 2: 4.377758238068141\n"
     ]
    }
   ],
   "source": [
    "data1 = np.random.normal(0, 1, 100)\n",
    "data2 = np.random.normal(0, 5, 100)\n",
    "print(\"Std Dev 1:\", np.std(data1))\n",
    "print(\"Std Dev 2:\", np.std(data2))"
   ]
  },
  {
   "cell_type": "markdown",
   "id": "3e110e9a",
   "metadata": {},
   "source": [
    "**Q20. 20. Write a Python program to visualize covariance using a heatmap**"
   ]
  },
  {
   "cell_type": "code",
   "execution_count": 26,
   "id": "22f3a6b3",
   "metadata": {},
   "outputs": [
    {
     "data": {
      "image/png": "[encoded data removed]",
      "text/plain": [
       "<Figure size 640x480 with 2 Axes>"
      ]
     },
     "metadata": {},
     "output_type": "display_data"
    }
   ],
   "source": [
    "import seaborn as sns\n",
    "\n",
    "df = pd.DataFrame({'x': np.random.rand(100), 'y': np.random.rand(100)})\n",
    "cov_matrix = df.cov()\n",
    "sns.heatmap(cov_matrix, annot=True)\n",
    "plt.show()"
   ]
  },
  {
   "cell_type": "markdown",
   "id": "51450025",
   "metadata": {},
   "source": [
    "**Q21. 21. Use seaborn to create a correlation matrix for a dataset**"
   ]
  },
  {
   "cell_type": "code",
   "execution_count": 27,
   "id": "b30a36d4",
   "metadata": {},
   "outputs": [
    {
     "data": {
      "image/png": "[encoded data removed]",
      "text/plain": [
       "<Figure size 640x480 with 2 Axes>"
      ]
     },
     "metadata": {},
     "output_type": "display_data"
    }
   ],
   "source": [
    "corr_matrix = df.corr(method='pearson')\n",
    "sns.heatmap(corr_matrix, annot=True)\n",
    "plt.show()"
   ]
  },
  {
   "cell_type": "markdown",
   "id": "a7381c48",
   "metadata": {},
   "source": [
    "**Q22. 22. Generate a dataset and implement both variance and standard deviation computations**"
   ]
  },
  {
   "cell_type": "code",
   "execution_count": 28,
   "id": "f5875b58",
   "metadata": {},
   "outputs": [
    {
     "name": "stdout",
     "output_type": "stream",
     "text": [
      "Variance: 1.0499314517807465\n",
      "Standard Deviation: 1.0246616279439504\n"
     ]
    }
   ],
   "source": [
    "data = np.random.normal(0, 1, 1000)\n",
    "print(\"Variance:\", np.var(data))\n",
    "print(\"Standard Deviation:\", np.std(data))"
   ]
  },
  {
   "cell_type": "markdown",
   "id": "c8d24b12",
   "metadata": {},
   "source": [
    "**Q23. 23. Visualize skewness and kurtosis using Python libraries like matplotlib or seaborn**"
   ]
  },
  {
   "cell_type": "code",
   "execution_count": 29,
   "id": "44772eb0",
   "metadata": {},
   "outputs": [
    {
     "name": "stdout",
     "output_type": "stream",
     "text": [
      "Skewness: -0.052196605402662286\n",
      "Kurtosis: -0.17555465992870367\n"
     ]
    },
    {
     "data": {
      "image/png": "[encoded data removed]",
      "text/plain": [
       "<Figure size 640x480 with 1 Axes>"
      ]
     },
     "metadata": {},
     "output_type": "display_data"
    }
   ],
   "source": [
    "sns.histplot(data, kde=True)\n",
    "print(\"Skewness:\", skew(data))\n",
    "print(\"Kurtosis:\", kurtosis(data))"
   ]
  },
  {
   "cell_type": "markdown",
   "id": "2e50165c",
   "metadata": {},
   "source": [
    "**Q24. 24. Implement the Pearson and Spearman correlation coefficients for a dataset.**"
   ]
  },
  {
   "cell_type": "code",
   "execution_count": 30,
   "id": "04c64925",
   "metadata": {},
   "outputs": [
    {
     "name": "stdout",
     "output_type": "stream",
     "text": [
      "Pearson: -0.10300065350878251\n",
      "Spearman: -0.11505550555055505\n"
     ]
    }
   ],
   "source": [
    "from scipy.stats import spearmanr\n",
    "\n",
    "x = np.random.rand(100)\n",
    "y = np.random.rand(100)\n",
    "pearson_corr, _ = pearsonr(x, y)\n",
    "spearman_corr, _ = spearmanr(x, y)\n",
    "print(\"Pearson:\", pearson_corr)\n",
    "print(\"Spearman:\", spearman_corr)"
   ]
  },
  {
   "cell_type": "markdown",
   "id": "f6227c47",
   "metadata": {},
   "source": [
    "# ------------------ Thank You ----------------------"
   ]
  },
  {
   "cell_type": "code",
   "execution_count": null,
   "id": "bb70e37e",
   "metadata": {},
   "outputs": [],
   "source": []
  }
 ],
 "metadata": {
  "kernelspec": {
   "display_name": "Python 3 (ipykernel)",
   "language": "python",
   "name": "python3"
  },
  "language_info": {
   "codemirror_mode": {
    "name": "ipython",
    "version": 3
   },
   "file_extension": ".py",
   "mimetype": "text/x-python",
   "name": "python",
   "nbconvert_exporter": "python",
   "pygments_lexer": "ipython3",
   "version": "3.9.13"
  }
 },
 "nbformat": 4,
 "nbformat_minor": 5
}
