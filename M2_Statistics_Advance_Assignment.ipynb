{
 "cells": [
  {
   "cell_type": "markdown",
   "id": "78141836",
   "metadata": {},
   "source": [
    "## Theory Questions"
   ]
  },
  {
   "cell_type": "markdown",
   "id": "a7edb64f",
   "metadata": {},
   "source": [
    "### 1. What is a random variable in probability theory"
   ]
  },
  {
   "cell_type": "markdown",
   "id": "958a8a53",
   "metadata": {},
   "source": [
    "A random variable is a numerical outcome of a random phenomenon. It assigns a real number to each outcome in a sample space."
   ]
  },
  {
   "cell_type": "markdown",
   "id": "157db8a8",
   "metadata": {},
   "source": [
    "### 2. What are the types of random variables"
   ]
  },
  {
   "cell_type": "markdown",
   "id": "b15c74c4",
   "metadata": {},
   "source": [
    "There are two types of random variables: discrete (finite or countably infinite outcomes) and continuous (uncountably infinite outcomes)."
   ]
  },
  {
   "cell_type": "markdown",
   "id": "bb17e965",
   "metadata": {},
   "source": [
    "### 3. What is the difference between discrete and continuous distributions"
   ]
  },
  {
   "cell_type": "markdown",
   "id": "af7be0d5",
   "metadata": {},
   "source": [
    "Discrete distributions deal with countable outcomes (e.g., rolling a die), while continuous distributions involve measurable quantities (e.g., height, weight)."
   ]
  },
  {
   "cell_type": "markdown",
   "id": "7be62f0a",
   "metadata": {},
   "source": [
    "### 4. What are probability distribution functions (PDF)"
   ]
  },
  {
   "cell_type": "markdown",
   "id": "edaedc58",
   "metadata": {},
   "source": [
    "A probability distribution function (PDF) describes the likelihood of all possible outcomes of a random variable."
   ]
  },
  {
   "cell_type": "markdown",
   "id": "f5ed5199",
   "metadata": {},
   "source": [
    "### 5. How do cumulative distribution functions (CDF) differ from probability distribution functions (PDF)"
   ]
  },
  {
   "cell_type": "markdown",
   "id": "2d37a7f1",
   "metadata": {},
   "source": [
    "CDF (Cumulative Distribution Function) gives the probability that a random variable is less than or equal to a certain value. Unlike PDF, it is cumulative and always non-decreasing."
   ]
  },
  {
   "cell_type": "markdown",
   "id": "d0c7dc4b",
   "metadata": {},
   "source": [
    "### 6. What is a discrete uniform distribution"
   ]
  },
  {
   "cell_type": "markdown",
   "id": "41b2ce70",
   "metadata": {},
   "source": [
    "A discrete uniform distribution is one in which all outcomes are equally likely over a finite set."
   ]
  },
  {
   "cell_type": "markdown",
   "id": "a88a5300",
   "metadata": {},
   "source": [
    "### 7. What are the key properties of a Bernoulli distribution"
   ]
  },
  {
   "cell_type": "markdown",
   "id": "60ce43e4",
   "metadata": {},
   "source": [
    "The Bernoulli distribution has two outcomes (success/failure) with a single parameter \\( p \\) representing the probability of success. Key properties include mean = \\( p \\), variance = \\( p(1 - p) \\)."
   ]
  },
  {
   "cell_type": "markdown",
   "id": "22ce7fbd",
   "metadata": {},
   "source": [
    "### 8. What is the binomial distribution, and how is it used in probability"
   ]
  },
  {
   "cell_type": "markdown",
   "id": "cd0527dc",
   "metadata": {},
   "source": [
    "The binomial distribution represents the number of successes in a fixed number of independent Bernoulli trials. It's used for binary outcome experiments like coin flips."
   ]
  },
  {
   "cell_type": "markdown",
   "id": "da1a43dd",
   "metadata": {},
   "source": [
    "### 9. What is the Poisson distribution and where is it applied"
   ]
  },
  {
   "cell_type": "markdown",
   "id": "1ba48d4a",
   "metadata": {},
   "source": [
    "The Poisson distribution models the number of events occurring in a fixed interval of time or space under a known average rate. It's used for rare events like accidents or call arrivals."
   ]
  },
  {
   "cell_type": "markdown",
   "id": "61a8ea25",
   "metadata": {},
   "source": [
    "### 10. What is a continuous uniform distribution"
   ]
  },
  {
   "cell_type": "markdown",
   "id": "77c401d2",
   "metadata": {},
   "source": [
    "A continuous uniform distribution assumes all values within a certain interval are equally likely. It is defined over a continuous range."
   ]
  },
  {
   "cell_type": "markdown",
   "id": "d50b1ed2",
   "metadata": {},
   "source": [
    "### 11. What are the characteristics of a normal distribution"
   ]
  },
  {
   "cell_type": "markdown",
   "id": "b7c1c3c0",
   "metadata": {},
   "source": [
    "The normal distribution is symmetric and bell-shaped, defined by mean (µ) and standard deviation (σ). Most values cluster around the mean."
   ]
  },
  {
   "cell_type": "markdown",
   "id": "0b96eeb1",
   "metadata": {},
   "source": [
    "### 12. What is the standard normal distribution, and why is it important"
   ]
  },
  {
   "cell_type": "markdown",
   "id": "b3b3de6d",
   "metadata": {},
   "source": [
    "The standard normal distribution is a special case of the normal distribution with a mean of 0 and a standard deviation of 1. It's used to calculate probabilities and Z-scores."
   ]
  },
  {
   "cell_type": "markdown",
   "id": "4cb1c4b2",
   "metadata": {},
   "source": [
    "### 13. What is the Central Limit Theorem (CLT), and why is it critical in statistics"
   ]
  },
  {
   "cell_type": "markdown",
   "id": "060107c3",
   "metadata": {},
   "source": [
    "The Central Limit Theorem (CLT) states that the distribution of sample means approximates a normal distribution as the sample size becomes large, regardless of the original distribution."
   ]
  },
  {
   "cell_type": "markdown",
   "id": "9ec014e2",
   "metadata": {},
   "source": [
    "### 14. How does the Central Limit Theorem relate to the normal distribution"
   ]
  },
  {
   "cell_type": "markdown",
   "id": "35a98fb0",
   "metadata": {},
   "source": [
    "CLT shows that sampling distributions of means become normal even if the original population distribution is not, which allows for using normal probability techniques."
   ]
  },
  {
   "cell_type": "markdown",
   "id": "96266ce1",
   "metadata": {},
   "source": [
    "### 15. What is the application of Z statistics in hypothesis testing"
   ]
  },
  {
   "cell_type": "markdown",
   "id": "a22b28a6",
   "metadata": {},
   "source": [
    "Z statistics are used to determine how many standard deviations an element is from the mean. It's crucial in hypothesis testing for determining significance."
   ]
  },
  {
   "cell_type": "markdown",
   "id": "ea6825aa",
   "metadata": {},
   "source": [
    "### 16. How do you calculate a Z-score, and what does it represent"
   ]
  },
  {
   "cell_type": "markdown",
   "id": "3ed93d39",
   "metadata": {},
   "source": [
    "Z-score = (X - µ) / σ, where X is the value, µ is the mean, and σ is the standard deviation. It shows how far a point is from the mean."
   ]
  },
  {
   "cell_type": "markdown",
   "id": "68e5a869",
   "metadata": {},
   "source": [
    "### 17. What are point estimates and interval estimates in statistics"
   ]
  },
  {
   "cell_type": "markdown",
   "id": "f2c994a6",
   "metadata": {},
   "source": [
    "Point estimate gives a single value as an estimate of a population parameter, while interval estimate provides a range of values within which the parameter lies."
   ]
  },
  {
   "cell_type": "markdown",
   "id": "e61b3240",
   "metadata": {},
   "source": [
    "### 18. What is the significance of confidence intervals in statistical analysis"
   ]
  },
  {
   "cell_type": "markdown",
   "id": "33df217b",
   "metadata": {},
   "source": [
    "Confidence intervals show the reliability of an estimate by giving a range likely to contain the population parameter with a certain confidence level (e.g., 95%)."
   ]
  },
  {
   "cell_type": "markdown",
   "id": "6e409bb7",
   "metadata": {},
   "source": [
    "### 19. What is the relationship between a Z-score and a confidence interval"
   ]
  },
  {
   "cell_type": "markdown",
   "id": "a3bfcbe5",
   "metadata": {},
   "source": [
    "Z-score helps in constructing confidence intervals and determining if a value lies within the expected range."
   ]
  },
  {
   "cell_type": "markdown",
   "id": "0aa1523a",
   "metadata": {},
   "source": [
    "### 20. How are Z-scores used to compare different distributions"
   ]
  },
  {
   "cell_type": "markdown",
   "id": "a2f23abd",
   "metadata": {},
   "source": [
    "Z-scores normalize data, allowing comparison across different distributions by translating scores into standard deviations from the mean."
   ]
  },
  {
   "cell_type": "markdown",
   "id": "94812ce5",
   "metadata": {},
   "source": [
    "### 21. What are the assumptions for applying the Central Limit Theorem"
   ]
  },
  {
   "cell_type": "markdown",
   "id": "f6262e3b",
   "metadata": {},
   "source": [
    "Assumptions include: independent observations, sufficiently large sample size (usually n > 30), and finite mean and variance."
   ]
  },
  {
   "cell_type": "markdown",
   "id": "de86ef78",
   "metadata": {},
   "source": [
    "### 22. What is the concept of expected value in a probability distribution"
   ]
  },
  {
   "cell_type": "markdown",
   "id": "7ba8e193",
   "metadata": {},
   "source": [
    "Expected value is the weighted average of all possible values of a random variable, weighted by their respective probabilities."
   ]
  },
  {
   "cell_type": "markdown",
   "id": "53841f64",
   "metadata": {},
   "source": [
    "### 23. How does a probability distribution relate to the expected outcome of a random variable?"
   ]
  },
  {
   "cell_type": "markdown",
   "id": "e641faa0",
   "metadata": {},
   "source": [
    "A probability distribution defines the likelihood of all outcomes, and the expected value summarizes these outcomes as a central value or long-run average."
   ]
  },
  {
   "cell_type": "markdown",
   "id": "32a2dc82",
   "metadata": {},
   "source": [
    "# ------------------- Thank You ----------------------"
   ]
  },
  {
   "cell_type": "code",
   "execution_count": null,
   "id": "8faf6ad1",
   "metadata": {},
   "outputs": [],
   "source": []
  }
 ],
 "metadata": {
  "kernelspec": {
   "display_name": "Python 3 (ipykernel)",
   "language": "python",
   "name": "python3"
  },
  "language_info": {
   "codemirror_mode": {
    "name": "ipython",
    "version": 3
   },
   "file_extension": ".py",
   "mimetype": "text/x-python",
   "name": "python",
   "nbconvert_exporter": "python",
   "pygments_lexer": "ipython3",
   "version": "3.9.13"
  }
 },
 "nbformat": 4,
 "nbformat_minor": 5
}
